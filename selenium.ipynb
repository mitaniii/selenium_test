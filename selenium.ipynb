{
 "cells": [
  {
   "attachments": {},
   "cell_type": "markdown",
   "metadata": {},
   "source": [
    "## Selenium\n",
    "- selenium\n",
    "- webdriver\n",
    "\n",
    "```\n",
    "pip install selenium\n",
    "pip install chromedriver_binary==109.0.5414.*\n",
    "\n",
    "```"
   ]
  },
  {
   "cell_type": "code",
   "execution_count": 11,
   "metadata": {},
   "outputs": [
    {
     "name": "stdout",
     "output_type": "stream",
     "text": [
      "selenium - Google 検索\n"
     ]
    }
   ],
   "source": [
    "from selenium import webdriver\n",
    "from selenium.webdriver.common.by import By\n",
    "import chromedriver_binary\n",
    "import time\n",
    "\n",
    "driver = webdriver.Chrome() #Chromeを起動\n",
    "\n",
    "driver.get(\"https://google.co.jp\") #URLを開く\n",
    "driver.implicitly_wait(5)\n",
    "\n",
    "search_box = driver.find_element(By.NAME, \"q\") #検索\n",
    "search_box.send_keys(\"selenium\") #入力\n",
    "search_box.submit() #送信\n",
    "\n",
    "print(driver.title)\n",
    "\n",
    "\n",
    "time.sleep(5) #5秒間停止\n",
    "driver.quit() #Chromeを終了"
   ]
  },
  {
   "cell_type": "code",
   "execution_count": 14,
   "metadata": {},
   "outputs": [
    {
     "name": "stdout",
     "output_type": "stream",
     "text": [
      "1 データ収集を大幅に効率化する「スクレイピング」とは ...\n",
      "2 スクレイピングとは何？ 概要やメリット・デメリットをわかり ...\n",
      "3 PythonでWebスクレイピングをする方法を解説！【入門編】\n",
      "4 スクレイピングとは？活用方法や注意点、確認すべきことを ...\n",
      "5 Webスクレイピングとは？基本や仕組み、活用事例まで解説\n",
      "6 ウェブスクレイピング - Wikipedia\n",
      "7 Webスクレイピングとは？基本や仕組み、活用事例まで解説\n",
      "8 データ収集できるスクレイピングとは？効率化にツールが必要 ...\n",
      "9 Webスクレイピング禁止サイト5選！違法にならない ... - PigData\n",
      "10 スクレイピングとは何かやさしく解説。違法？クローリングと ...\n",
      "11 PythonでWebスクレイピングをする方法を解説！【入門編】\n",
      "12 【初心者向け】PythonでWebスクレイピングをしてみよう ...\n",
      "13 図解！PythonでWEB スクレイピングを極めよう！(サンプル ...\n",
      "14 スクレイピングとは？活用方法や注意点、確認すべきことを ...\n"
     ]
    }
   ],
   "source": [
    "from selenium import webdriver\n",
    "from selenium.webdriver.common.by import By\n",
    "import chromedriver_binary\n",
    "from bs4 import BeautifulSoup\n",
    "import time\n",
    "\n",
    "driver = webdriver.Chrome()\n",
    "driver.get(\"https://google.co.jp\")\n",
    "driver.implicitly_wait(3)\n",
    "\n",
    "search_box = driver.find_element(By.NAME, \"q\")\n",
    "search_box.send_keys(\"スクレイピング\")\n",
    "search_box.submit()\n",
    "driver.implicitly_wait(3)\n",
    "\n",
    "soup = BeautifulSoup(driver.page_source, \"html.parser\")\n",
    "results = soup.find_all(\"h3\", attrs={\"class\": \"LC20lb\"})\n",
    "for i, result in enumerate(results):\n",
    "    print(i+1, result.get_text())\n",
    "\n",
    "\n",
    "time.sleep(5) #5秒間停止\n",
    "driver.quit() #Chromeを終了"
   ]
  },
  {
   "attachments": {},
   "cell_type": "markdown",
   "metadata": {},
   "source": []
  },
  {
   "cell_type": "code",
   "execution_count": 21,
   "metadata": {},
   "outputs": [
    {
     "name": "stdout",
     "output_type": "stream",
     "text": [
      "横浜市の2週間天気(旧:10日間天気) - 日本気象協会 tenki.jp\n",
      "02月07日(火) 曇時々晴 15℃ / 8℃ 20%\n",
      "02月08日(水) 晴時々曇 11℃ / 8℃ 20%\n",
      "02月09日(木) 晴時々曇 10℃ / 5℃ 0%\n",
      "02月10日(金) 曇のち雨 4℃ / 4℃ 90%\n",
      "02月11日(土) 晴一時雨 12℃ / 6℃ 90%\n",
      "02月12日(日) 晴時々曇 13℃ / 3℃ 40%\n",
      "02月13日(月) 曇のち雨 15℃ / 12℃ 80%\n",
      "02月14日(火) 曇一時雨 7℃ / 6℃ 70%\n",
      "02月15日(水) 晴時々曇 9℃ / 4℃ 40%\n",
      "02月16日(木) 晴 8℃ / 2℃ 10%\n",
      "02月17日(金) 晴 10℃ / 2℃ 20%\n",
      "02月18日(土) 晴 12℃ / 4℃ 20%\n",
      "02月19日(日) 晴時々曇 12℃ / 5℃ 30%\n",
      "02月20日(月) 曇のち晴 11℃ / 5℃ 40%\n"
     ]
    }
   ],
   "source": [
    "#tenki.jp\n",
    "\n",
    "driver = webdriver.Chrome()\n",
    "driver.get(\"https://tenki.jp/forecast/3/17/4610/14100/10days.html\")\n",
    "driver.implicitly_wait(3)\n",
    "\n",
    "print(driver.title)\n",
    "soup = BeautifulSoup(driver.page_source, \"html.parser\")\n",
    "list = soup.find_all(\"dd\", attrs={\"class\": \"forecast10days-actab\"})\n",
    "for data in list:\n",
    "    days = data.find(\"div\", attrs={\"class\": \"days\"}).get_text()\n",
    "    forecast = data.find(\"div\", attrs={\"class\": \"forecast\"}).get_text()\n",
    "    high_temp = data.find(\"span\", attrs={\"class\": \"high-temp\"}).get_text()\n",
    "    low_temp = data.find(\"span\", attrs={\"class\": \"low-temp\"}).get_text()\n",
    "    percent = data.find(\"div\", attrs={\"class\": \"prob-precip\"}).get_text()\n",
    "    print(days, forecast, high_temp, \"/\", low_temp, percent)\n",
    "\n",
    "\n",
    "time.sleep(3)\n",
    "driver.quit()\n"
   ]
  },
  {
   "cell_type": "code",
   "execution_count": 2,
   "metadata": {},
   "outputs": [
    {
     "name": "stdout",
     "output_type": "stream",
     "text": [
      "y.mitani xxxxxx\n"
     ]
    }
   ],
   "source": [
    "#dotenv 環境変数を設定\n",
    "import dotenv\n",
    "import os\n",
    "\n",
    "dotenv.load_dotenv('.env')\n",
    "\n",
    "user_id = os.environ.get(\"USER_ID\")\n",
    "password = os.environ.get(\"PASSWORD\")"
   ]
  },
  {
   "cell_type": "code",
   "execution_count": 4,
   "metadata": {},
   "outputs": [
    {
     "name": "stdout",
     "output_type": "stream",
     "text": [
      "[New] 【研修】SEカレッジ2023年3月開催講座のご案内\n",
      "\n"
     ]
    },
    {
     "ename": "ElementNotInteractableException",
     "evalue": "Message: element not interactable\n  (Session info: chrome=109.0.5414.120)\nStacktrace:\nBacktrace:\n\t(No symbol) [0x00966643]\n\t(No symbol) [0x008FBE21]\n\t(No symbol) [0x007FD960]\n\t(No symbol) [0x008323A7]\n\t(No symbol) [0x00826B13]\n\t(No symbol) [0x0084FD7C]\n\t(No symbol) [0x0082641F]\n\t(No symbol) [0x008500D4]\n\t(No symbol) [0x00866B09]\n\t(No symbol) [0x0084FB76]\n\t(No symbol) [0x008249C1]\n\t(No symbol) [0x00825E5D]\n\tGetHandleVerifier [0x00BDA142+2497106]\n\tGetHandleVerifier [0x00C085D3+2686691]\n\tGetHandleVerifier [0x00C0BB9C+2700460]\n\tGetHandleVerifier [0x00A13B10+635936]\n\t(No symbol) [0x00904A1F]\n\t(No symbol) [0x0090A418]\n\t(No symbol) [0x0090A505]\n\t(No symbol) [0x0091508B]\n\tBaseThreadInitThunk [0x775E00F9+25]\n\tRtlGetAppContainerNamedObjectPath [0x77757BBE+286]\n\tRtlGetAppContainerNamedObjectPath [0x77757B8E+238]\n",
     "output_type": "error",
     "traceback": [
      "\u001b[1;31m---------------------------------------------------------------------------\u001b[0m",
      "\u001b[1;31mElementNotInteractableException\u001b[0m           Traceback (most recent call last)",
      "Cell \u001b[1;32mIn[4], line 39\u001b[0m\n\u001b[0;32m     36\u001b[0m \u001b[39mprint\u001b[39m(subject\u001b[39m.\u001b[39mtext)\n\u001b[0;32m     38\u001b[0m \u001b[39m#リンクをクリック\u001b[39;00m\n\u001b[1;32m---> 39\u001b[0m subject\u001b[39m.\u001b[39;49mfind_element(By\u001b[39m.\u001b[39;49mTAG_NAME, \u001b[39m\"\u001b[39;49m\u001b[39ma\u001b[39;49m\u001b[39m\"\u001b[39;49m)\u001b[39m.\u001b[39;49mclick()\n\u001b[0;32m     40\u001b[0m time\u001b[39m.\u001b[39msleep(\u001b[39m3\u001b[39m)\n\u001b[0;32m     41\u001b[0m \u001b[39m#スクショ\u001b[39;00m\n",
      "File \u001b[1;32mc:\\Users\\user\\AppData\\Local\\Programs\\Python\\Python311\\Lib\\site-packages\\selenium\\webdriver\\remote\\webelement.py:93\u001b[0m, in \u001b[0;36mWebElement.click\u001b[1;34m(self)\u001b[0m\n\u001b[0;32m     91\u001b[0m \u001b[39mdef\u001b[39;00m \u001b[39mclick\u001b[39m(\u001b[39mself\u001b[39m) \u001b[39m-\u001b[39m\u001b[39m>\u001b[39m \u001b[39mNone\u001b[39;00m:\n\u001b[0;32m     92\u001b[0m \u001b[39m    \u001b[39m\u001b[39m\"\"\"Clicks the element.\"\"\"\u001b[39;00m\n\u001b[1;32m---> 93\u001b[0m     \u001b[39mself\u001b[39;49m\u001b[39m.\u001b[39;49m_execute(Command\u001b[39m.\u001b[39;49mCLICK_ELEMENT)\n",
      "File \u001b[1;32mc:\\Users\\user\\AppData\\Local\\Programs\\Python\\Python311\\Lib\\site-packages\\selenium\\webdriver\\remote\\webelement.py:403\u001b[0m, in \u001b[0;36mWebElement._execute\u001b[1;34m(self, command, params)\u001b[0m\n\u001b[0;32m    401\u001b[0m     params \u001b[39m=\u001b[39m {}\n\u001b[0;32m    402\u001b[0m params[\u001b[39m\"\u001b[39m\u001b[39mid\u001b[39m\u001b[39m\"\u001b[39m] \u001b[39m=\u001b[39m \u001b[39mself\u001b[39m\u001b[39m.\u001b[39m_id\n\u001b[1;32m--> 403\u001b[0m \u001b[39mreturn\u001b[39;00m \u001b[39mself\u001b[39;49m\u001b[39m.\u001b[39;49m_parent\u001b[39m.\u001b[39;49mexecute(command, params)\n",
      "File \u001b[1;32mc:\\Users\\user\\AppData\\Local\\Programs\\Python\\Python311\\Lib\\site-packages\\selenium\\webdriver\\remote\\webdriver.py:440\u001b[0m, in \u001b[0;36mWebDriver.execute\u001b[1;34m(self, driver_command, params)\u001b[0m\n\u001b[0;32m    438\u001b[0m response \u001b[39m=\u001b[39m \u001b[39mself\u001b[39m\u001b[39m.\u001b[39mcommand_executor\u001b[39m.\u001b[39mexecute(driver_command, params)\n\u001b[0;32m    439\u001b[0m \u001b[39mif\u001b[39;00m response:\n\u001b[1;32m--> 440\u001b[0m     \u001b[39mself\u001b[39;49m\u001b[39m.\u001b[39;49merror_handler\u001b[39m.\u001b[39;49mcheck_response(response)\n\u001b[0;32m    441\u001b[0m     response[\u001b[39m\"\u001b[39m\u001b[39mvalue\u001b[39m\u001b[39m\"\u001b[39m] \u001b[39m=\u001b[39m \u001b[39mself\u001b[39m\u001b[39m.\u001b[39m_unwrap_value(response\u001b[39m.\u001b[39mget(\u001b[39m\"\u001b[39m\u001b[39mvalue\u001b[39m\u001b[39m\"\u001b[39m, \u001b[39mNone\u001b[39;00m))\n\u001b[0;32m    442\u001b[0m     \u001b[39mreturn\u001b[39;00m response\n",
      "File \u001b[1;32mc:\\Users\\user\\AppData\\Local\\Programs\\Python\\Python311\\Lib\\site-packages\\selenium\\webdriver\\remote\\errorhandler.py:245\u001b[0m, in \u001b[0;36mErrorHandler.check_response\u001b[1;34m(self, response)\u001b[0m\n\u001b[0;32m    243\u001b[0m         alert_text \u001b[39m=\u001b[39m value[\u001b[39m\"\u001b[39m\u001b[39malert\u001b[39m\u001b[39m\"\u001b[39m]\u001b[39m.\u001b[39mget(\u001b[39m\"\u001b[39m\u001b[39mtext\u001b[39m\u001b[39m\"\u001b[39m)\n\u001b[0;32m    244\u001b[0m     \u001b[39mraise\u001b[39;00m exception_class(message, screen, stacktrace, alert_text)  \u001b[39m# type: ignore[call-arg]  # mypy is not smart enough here\u001b[39;00m\n\u001b[1;32m--> 245\u001b[0m \u001b[39mraise\u001b[39;00m exception_class(message, screen, stacktrace)\n",
      "\u001b[1;31mElementNotInteractableException\u001b[0m: Message: element not interactable\n  (Session info: chrome=109.0.5414.120)\nStacktrace:\nBacktrace:\n\t(No symbol) [0x00966643]\n\t(No symbol) [0x008FBE21]\n\t(No symbol) [0x007FD960]\n\t(No symbol) [0x008323A7]\n\t(No symbol) [0x00826B13]\n\t(No symbol) [0x0084FD7C]\n\t(No symbol) [0x0082641F]\n\t(No symbol) [0x008500D4]\n\t(No symbol) [0x00866B09]\n\t(No symbol) [0x0084FB76]\n\t(No symbol) [0x008249C1]\n\t(No symbol) [0x00825E5D]\n\tGetHandleVerifier [0x00BDA142+2497106]\n\tGetHandleVerifier [0x00C085D3+2686691]\n\tGetHandleVerifier [0x00C0BB9C+2700460]\n\tGetHandleVerifier [0x00A13B10+635936]\n\t(No symbol) [0x00904A1F]\n\t(No symbol) [0x0090A418]\n\t(No symbol) [0x0090A505]\n\t(No symbol) [0x0091508B]\n\tBaseThreadInitThunk [0x775E00F9+25]\n\tRtlGetAppContainerNamedObjectPath [0x77757BBE+286]\n\tRtlGetAppContainerNamedObjectPath [0x77757B8E+238]\n"
     ]
    }
   ],
   "source": [
    "from selenium import webdriver\n",
    "from selenium.webdriver.common.by import By\n",
    "import chromedriver_binary\n",
    "from bs4 import BeautifulSoup\n",
    "import time\n",
    "import os\n",
    "import dotenv\n",
    "\n",
    "driver = webdriver.Chrome()\n",
    "driver.get(\"https://cybermissions.co.jp/cgi-def/dneo/dneo.cgi\")\n",
    "driver.implicitly_wait(3)\n",
    "\n",
    "dotenv.load_dotenv('.env')\n",
    "\n",
    "#ログイン\n",
    "login_form = driver.find_element(By.NAME, \"inputfrm\")\n",
    "user_id = login_form.find_element(By.NAME,\"UserID\")\n",
    "user_id.send_keys(os.environ.get(\"USER_ID\"))\n",
    "password = login_form.find_element(By.NAME, \"_word\")\n",
    "password.send_keys(os.environ.get(\"PASSWORD\"))\n",
    "login_form.submit()\n",
    "driver.implicitly_wait(3)\n",
    "\n",
    "#トップメニュー→インフォメーションへ移動\n",
    "menu = driver.find_element(By.ID, \"portal-content-1000\")\n",
    "links = menu.find_elements(By.TAG_NAME, \"li\")\n",
    "#リンクをクリック\n",
    "links[4].find_element(By.TAG_NAME, \"a\").click()\n",
    "driver.implicitly_wait(3)\n",
    "\n",
    "#インフォメーションのタイトル取得\n",
    "tbody = driver.find_element(By.CLASS_NAME, \"co-tbody-list\")\n",
    "trows = tbody.find_elements(By.TAG_NAME, \"tr\")\n",
    "for index, row in enumerate(trows):\n",
    "    subject = row.find_element(By.CLASS_NAME, \"info-th-subject\")\n",
    "    print(subject.text)\n",
    "    \n",
    "    #リンクをクリック\n",
    "    subject.find_element(By.TAG_NAME, \"a\").click()\n",
    "    time.sleep(3)\n",
    "    #スクショ\n",
    "    driver.save_screenshot(f\"./ss/info_{index + 1}.png\")\n",
    "    time.sleep(3)\n",
    "    #戻る\n",
    "    driver.back()\n",
    "    time.sleep(3)\n",
    "\n",
    "#閉じる\n",
    "time.sleep(3)\n",
    "driver.quit()\n",
    "\n"
   ]
  },
  {
   "cell_type": "code",
   "execution_count": 7,
   "metadata": {},
   "outputs": [],
   "source": [
    "#screenshot スクショ\n",
    "\n",
    "from selenium.webdriver.chrome.options import Options\n",
    "options = Options()\n",
    "options.add_argument(\"--headless\") # headless mode\n",
    "\n",
    "driver = webdriver.Chrome(options=options)\n",
    "driver.get(\"https://srad.jp\")\n",
    "driver.implicitly_wait(3)\n",
    "\n",
    "width = driver.execute_script(\"return document.body.scrollWidth\")\n",
    "height = driver.execute_script(\"return document.body.scrollHeight\")\n",
    "driver.set_window_size(width, height)\n",
    "driver.implicitly_wait(3)\n",
    "\n",
    "driver.save_screenshot(\"screenshot.png\")\n",
    "\n",
    "time.sleep(3)\n",
    "driver.quit()"
   ]
  }
 ],
 "metadata": {
  "kernelspec": {
   "display_name": "Python 3",
   "language": "python",
   "name": "python3"
  },
  "language_info": {
   "codemirror_mode": {
    "name": "ipython",
    "version": 3
   },
   "file_extension": ".py",
   "mimetype": "text/x-python",
   "name": "python",
   "nbconvert_exporter": "python",
   "pygments_lexer": "ipython3",
   "version": "3.11.1"
  },
  "orig_nbformat": 4,
  "vscode": {
   "interpreter": {
    "hash": "de47f5c92c0ee6f12a59a5613ac5feff6aab19ddff207ba0b3964cced08c4ccc"
   }
  }
 },
 "nbformat": 4,
 "nbformat_minor": 2
}
